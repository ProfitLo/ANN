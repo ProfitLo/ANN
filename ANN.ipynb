{
  "nbformat": 4,
  "nbformat_minor": 0,
  "metadata": {
    "colab": {
      "provenance": [],
      "gpuType": "T4"
    },
    "kernelspec": {
      "name": "python3",
      "display_name": "Python 3"
    },
    "language_info": {
      "name": "python"
    },
    "accelerator": "GPU"
  },
  "cells": [
    {
      "cell_type": "markdown",
      "source": [
        "**ANN**"
      ],
      "metadata": {
        "id": "wgSK9Htcm4NW"
      }
    },
    {
      "cell_type": "code",
      "source": [
        "import tensorflow as tf\n",
        "print(tf.__version__)"
      ],
      "metadata": {
        "colab": {
          "base_uri": "https://localhost:8080/"
        },
        "id": "b10GaRsnquD-",
        "outputId": "88665679-805e-4f0a-a61e-69ede54c7d05"
      },
      "execution_count": 16,
      "outputs": [
        {
          "output_type": "stream",
          "name": "stdout",
          "text": [
            "2.15.0\n"
          ]
        }
      ]
    },
    {
      "cell_type": "code",
      "source": [
        "#import some basic libraries\n",
        "import numpy as np\n",
        "import pandas as pd\n",
        "import matplotlib.pyplot as plt\n"
      ],
      "metadata": {
        "id": "6gwow18uq_DA"
      },
      "execution_count": 17,
      "outputs": []
    },
    {
      "cell_type": "code",
      "source": [
        "dataset=pd.read_csv('/content/Churn_Modelling.csv')"
      ],
      "metadata": {
        "id": "UIjPVtbPq_KP"
      },
      "execution_count": 18,
      "outputs": []
    },
    {
      "cell_type": "code",
      "source": [
        "dataset.head()"
      ],
      "metadata": {
        "colab": {
          "base_uri": "https://localhost:8080/",
          "height": 206
        },
        "id": "TJSdbS0Eq_NK",
        "outputId": "bd402e20-44bc-4e98-fe8e-4a610b74b6a0"
      },
      "execution_count": 19,
      "outputs": [
        {
          "output_type": "execute_result",
          "data": {
            "text/plain": [
              "   RowNumber  CustomerId   Surname  CreditScore Geography  Gender  Age  \\\n",
              "0          1    15634602  Hargrave          619    France  Female   42   \n",
              "1          2    15647311      Hill          608     Spain  Female   41   \n",
              "2          3    15619304      Onio          502    France  Female   42   \n",
              "3          4    15701354      Boni          699    France  Female   39   \n",
              "4          5    15737888  Mitchell          850     Spain  Female   43   \n",
              "\n",
              "   Tenure    Balance  NumOfProducts  HasCrCard  IsActiveMember  \\\n",
              "0       2       0.00              1          1               1   \n",
              "1       1   83807.86              1          0               1   \n",
              "2       8  159660.80              3          1               0   \n",
              "3       1       0.00              2          0               0   \n",
              "4       2  125510.82              1          1               1   \n",
              "\n",
              "   EstimatedSalary  Exited  \n",
              "0        101348.88       1  \n",
              "1        112542.58       0  \n",
              "2        113931.57       1  \n",
              "3         93826.63       0  \n",
              "4         79084.10       0  "
            ],
            "text/html": [
              "\n",
              "  <div id=\"df-27f4c011-def3-488f-8b40-6d72f5e66a95\" class=\"colab-df-container\">\n",
              "    <div>\n",
              "<style scoped>\n",
              "    .dataframe tbody tr th:only-of-type {\n",
              "        vertical-align: middle;\n",
              "    }\n",
              "\n",
              "    .dataframe tbody tr th {\n",
              "        vertical-align: top;\n",
              "    }\n",
              "\n",
              "    .dataframe thead th {\n",
              "        text-align: right;\n",
              "    }\n",
              "</style>\n",
              "<table border=\"1\" class=\"dataframe\">\n",
              "  <thead>\n",
              "    <tr style=\"text-align: right;\">\n",
              "      <th></th>\n",
              "      <th>RowNumber</th>\n",
              "      <th>CustomerId</th>\n",
              "      <th>Surname</th>\n",
              "      <th>CreditScore</th>\n",
              "      <th>Geography</th>\n",
              "      <th>Gender</th>\n",
              "      <th>Age</th>\n",
              "      <th>Tenure</th>\n",
              "      <th>Balance</th>\n",
              "      <th>NumOfProducts</th>\n",
              "      <th>HasCrCard</th>\n",
              "      <th>IsActiveMember</th>\n",
              "      <th>EstimatedSalary</th>\n",
              "      <th>Exited</th>\n",
              "    </tr>\n",
              "  </thead>\n",
              "  <tbody>\n",
              "    <tr>\n",
              "      <th>0</th>\n",
              "      <td>1</td>\n",
              "      <td>15634602</td>\n",
              "      <td>Hargrave</td>\n",
              "      <td>619</td>\n",
              "      <td>France</td>\n",
              "      <td>Female</td>\n",
              "      <td>42</td>\n",
              "      <td>2</td>\n",
              "      <td>0.00</td>\n",
              "      <td>1</td>\n",
              "      <td>1</td>\n",
              "      <td>1</td>\n",
              "      <td>101348.88</td>\n",
              "      <td>1</td>\n",
              "    </tr>\n",
              "    <tr>\n",
              "      <th>1</th>\n",
              "      <td>2</td>\n",
              "      <td>15647311</td>\n",
              "      <td>Hill</td>\n",
              "      <td>608</td>\n",
              "      <td>Spain</td>\n",
              "      <td>Female</td>\n",
              "      <td>41</td>\n",
              "      <td>1</td>\n",
              "      <td>83807.86</td>\n",
              "      <td>1</td>\n",
              "      <td>0</td>\n",
              "      <td>1</td>\n",
              "      <td>112542.58</td>\n",
              "      <td>0</td>\n",
              "    </tr>\n",
              "    <tr>\n",
              "      <th>2</th>\n",
              "      <td>3</td>\n",
              "      <td>15619304</td>\n",
              "      <td>Onio</td>\n",
              "      <td>502</td>\n",
              "      <td>France</td>\n",
              "      <td>Female</td>\n",
              "      <td>42</td>\n",
              "      <td>8</td>\n",
              "      <td>159660.80</td>\n",
              "      <td>3</td>\n",
              "      <td>1</td>\n",
              "      <td>0</td>\n",
              "      <td>113931.57</td>\n",
              "      <td>1</td>\n",
              "    </tr>\n",
              "    <tr>\n",
              "      <th>3</th>\n",
              "      <td>4</td>\n",
              "      <td>15701354</td>\n",
              "      <td>Boni</td>\n",
              "      <td>699</td>\n",
              "      <td>France</td>\n",
              "      <td>Female</td>\n",
              "      <td>39</td>\n",
              "      <td>1</td>\n",
              "      <td>0.00</td>\n",
              "      <td>2</td>\n",
              "      <td>0</td>\n",
              "      <td>0</td>\n",
              "      <td>93826.63</td>\n",
              "      <td>0</td>\n",
              "    </tr>\n",
              "    <tr>\n",
              "      <th>4</th>\n",
              "      <td>5</td>\n",
              "      <td>15737888</td>\n",
              "      <td>Mitchell</td>\n",
              "      <td>850</td>\n",
              "      <td>Spain</td>\n",
              "      <td>Female</td>\n",
              "      <td>43</td>\n",
              "      <td>2</td>\n",
              "      <td>125510.82</td>\n",
              "      <td>1</td>\n",
              "      <td>1</td>\n",
              "      <td>1</td>\n",
              "      <td>79084.10</td>\n",
              "      <td>0</td>\n",
              "    </tr>\n",
              "  </tbody>\n",
              "</table>\n",
              "</div>\n",
              "    <div class=\"colab-df-buttons\">\n",
              "\n",
              "  <div class=\"colab-df-container\">\n",
              "    <button class=\"colab-df-convert\" onclick=\"convertToInteractive('df-27f4c011-def3-488f-8b40-6d72f5e66a95')\"\n",
              "            title=\"Convert this dataframe to an interactive table.\"\n",
              "            style=\"display:none;\">\n",
              "\n",
              "  <svg xmlns=\"http://www.w3.org/2000/svg\" height=\"24px\" viewBox=\"0 -960 960 960\">\n",
              "    <path d=\"M120-120v-720h720v720H120Zm60-500h600v-160H180v160Zm220 220h160v-160H400v160Zm0 220h160v-160H400v160ZM180-400h160v-160H180v160Zm440 0h160v-160H620v160ZM180-180h160v-160H180v160Zm440 0h160v-160H620v160Z\"/>\n",
              "  </svg>\n",
              "    </button>\n",
              "\n",
              "  <style>\n",
              "    .colab-df-container {\n",
              "      display:flex;\n",
              "      gap: 12px;\n",
              "    }\n",
              "\n",
              "    .colab-df-convert {\n",
              "      background-color: #E8F0FE;\n",
              "      border: none;\n",
              "      border-radius: 50%;\n",
              "      cursor: pointer;\n",
              "      display: none;\n",
              "      fill: #1967D2;\n",
              "      height: 32px;\n",
              "      padding: 0 0 0 0;\n",
              "      width: 32px;\n",
              "    }\n",
              "\n",
              "    .colab-df-convert:hover {\n",
              "      background-color: #E2EBFA;\n",
              "      box-shadow: 0px 1px 2px rgba(60, 64, 67, 0.3), 0px 1px 3px 1px rgba(60, 64, 67, 0.15);\n",
              "      fill: #174EA6;\n",
              "    }\n",
              "\n",
              "    .colab-df-buttons div {\n",
              "      margin-bottom: 4px;\n",
              "    }\n",
              "\n",
              "    [theme=dark] .colab-df-convert {\n",
              "      background-color: #3B4455;\n",
              "      fill: #D2E3FC;\n",
              "    }\n",
              "\n",
              "    [theme=dark] .colab-df-convert:hover {\n",
              "      background-color: #434B5C;\n",
              "      box-shadow: 0px 1px 3px 1px rgba(0, 0, 0, 0.15);\n",
              "      filter: drop-shadow(0px 1px 2px rgba(0, 0, 0, 0.3));\n",
              "      fill: #FFFFFF;\n",
              "    }\n",
              "  </style>\n",
              "\n",
              "    <script>\n",
              "      const buttonEl =\n",
              "        document.querySelector('#df-27f4c011-def3-488f-8b40-6d72f5e66a95 button.colab-df-convert');\n",
              "      buttonEl.style.display =\n",
              "        google.colab.kernel.accessAllowed ? 'block' : 'none';\n",
              "\n",
              "      async function convertToInteractive(key) {\n",
              "        const element = document.querySelector('#df-27f4c011-def3-488f-8b40-6d72f5e66a95');\n",
              "        const dataTable =\n",
              "          await google.colab.kernel.invokeFunction('convertToInteractive',\n",
              "                                                    [key], {});\n",
              "        if (!dataTable) return;\n",
              "\n",
              "        const docLinkHtml = 'Like what you see? Visit the ' +\n",
              "          '<a target=\"_blank\" href=https://colab.research.google.com/notebooks/data_table.ipynb>data table notebook</a>'\n",
              "          + ' to learn more about interactive tables.';\n",
              "        element.innerHTML = '';\n",
              "        dataTable['output_type'] = 'display_data';\n",
              "        await google.colab.output.renderOutput(dataTable, element);\n",
              "        const docLink = document.createElement('div');\n",
              "        docLink.innerHTML = docLinkHtml;\n",
              "        element.appendChild(docLink);\n",
              "      }\n",
              "    </script>\n",
              "  </div>\n",
              "\n",
              "\n",
              "<div id=\"df-c1e9f55b-1f43-4d92-8902-7f85aa27e322\">\n",
              "  <button class=\"colab-df-quickchart\" onclick=\"quickchart('df-c1e9f55b-1f43-4d92-8902-7f85aa27e322')\"\n",
              "            title=\"Suggest charts\"\n",
              "            style=\"display:none;\">\n",
              "\n",
              "<svg xmlns=\"http://www.w3.org/2000/svg\" height=\"24px\"viewBox=\"0 0 24 24\"\n",
              "     width=\"24px\">\n",
              "    <g>\n",
              "        <path d=\"M19 3H5c-1.1 0-2 .9-2 2v14c0 1.1.9 2 2 2h14c1.1 0 2-.9 2-2V5c0-1.1-.9-2-2-2zM9 17H7v-7h2v7zm4 0h-2V7h2v10zm4 0h-2v-4h2v4z\"/>\n",
              "    </g>\n",
              "</svg>\n",
              "  </button>\n",
              "\n",
              "<style>\n",
              "  .colab-df-quickchart {\n",
              "      --bg-color: #E8F0FE;\n",
              "      --fill-color: #1967D2;\n",
              "      --hover-bg-color: #E2EBFA;\n",
              "      --hover-fill-color: #174EA6;\n",
              "      --disabled-fill-color: #AAA;\n",
              "      --disabled-bg-color: #DDD;\n",
              "  }\n",
              "\n",
              "  [theme=dark] .colab-df-quickchart {\n",
              "      --bg-color: #3B4455;\n",
              "      --fill-color: #D2E3FC;\n",
              "      --hover-bg-color: #434B5C;\n",
              "      --hover-fill-color: #FFFFFF;\n",
              "      --disabled-bg-color: #3B4455;\n",
              "      --disabled-fill-color: #666;\n",
              "  }\n",
              "\n",
              "  .colab-df-quickchart {\n",
              "    background-color: var(--bg-color);\n",
              "    border: none;\n",
              "    border-radius: 50%;\n",
              "    cursor: pointer;\n",
              "    display: none;\n",
              "    fill: var(--fill-color);\n",
              "    height: 32px;\n",
              "    padding: 0;\n",
              "    width: 32px;\n",
              "  }\n",
              "\n",
              "  .colab-df-quickchart:hover {\n",
              "    background-color: var(--hover-bg-color);\n",
              "    box-shadow: 0 1px 2px rgba(60, 64, 67, 0.3), 0 1px 3px 1px rgba(60, 64, 67, 0.15);\n",
              "    fill: var(--button-hover-fill-color);\n",
              "  }\n",
              "\n",
              "  .colab-df-quickchart-complete:disabled,\n",
              "  .colab-df-quickchart-complete:disabled:hover {\n",
              "    background-color: var(--disabled-bg-color);\n",
              "    fill: var(--disabled-fill-color);\n",
              "    box-shadow: none;\n",
              "  }\n",
              "\n",
              "  .colab-df-spinner {\n",
              "    border: 2px solid var(--fill-color);\n",
              "    border-color: transparent;\n",
              "    border-bottom-color: var(--fill-color);\n",
              "    animation:\n",
              "      spin 1s steps(1) infinite;\n",
              "  }\n",
              "\n",
              "  @keyframes spin {\n",
              "    0% {\n",
              "      border-color: transparent;\n",
              "      border-bottom-color: var(--fill-color);\n",
              "      border-left-color: var(--fill-color);\n",
              "    }\n",
              "    20% {\n",
              "      border-color: transparent;\n",
              "      border-left-color: var(--fill-color);\n",
              "      border-top-color: var(--fill-color);\n",
              "    }\n",
              "    30% {\n",
              "      border-color: transparent;\n",
              "      border-left-color: var(--fill-color);\n",
              "      border-top-color: var(--fill-color);\n",
              "      border-right-color: var(--fill-color);\n",
              "    }\n",
              "    40% {\n",
              "      border-color: transparent;\n",
              "      border-right-color: var(--fill-color);\n",
              "      border-top-color: var(--fill-color);\n",
              "    }\n",
              "    60% {\n",
              "      border-color: transparent;\n",
              "      border-right-color: var(--fill-color);\n",
              "    }\n",
              "    80% {\n",
              "      border-color: transparent;\n",
              "      border-right-color: var(--fill-color);\n",
              "      border-bottom-color: var(--fill-color);\n",
              "    }\n",
              "    90% {\n",
              "      border-color: transparent;\n",
              "      border-bottom-color: var(--fill-color);\n",
              "    }\n",
              "  }\n",
              "</style>\n",
              "\n",
              "  <script>\n",
              "    async function quickchart(key) {\n",
              "      const quickchartButtonEl =\n",
              "        document.querySelector('#' + key + ' button');\n",
              "      quickchartButtonEl.disabled = true;  // To prevent multiple clicks.\n",
              "      quickchartButtonEl.classList.add('colab-df-spinner');\n",
              "      try {\n",
              "        const charts = await google.colab.kernel.invokeFunction(\n",
              "            'suggestCharts', [key], {});\n",
              "      } catch (error) {\n",
              "        console.error('Error during call to suggestCharts:', error);\n",
              "      }\n",
              "      quickchartButtonEl.classList.remove('colab-df-spinner');\n",
              "      quickchartButtonEl.classList.add('colab-df-quickchart-complete');\n",
              "    }\n",
              "    (() => {\n",
              "      let quickchartButtonEl =\n",
              "        document.querySelector('#df-c1e9f55b-1f43-4d92-8902-7f85aa27e322 button');\n",
              "      quickchartButtonEl.style.display =\n",
              "        google.colab.kernel.accessAllowed ? 'block' : 'none';\n",
              "    })();\n",
              "  </script>\n",
              "</div>\n",
              "\n",
              "    </div>\n",
              "  </div>\n"
            ],
            "application/vnd.google.colaboratory.intrinsic+json": {
              "type": "dataframe",
              "variable_name": "dataset",
              "summary": "{\n  \"name\": \"dataset\",\n  \"rows\": 10000,\n  \"fields\": [\n    {\n      \"column\": \"RowNumber\",\n      \"properties\": {\n        \"dtype\": \"number\",\n        \"std\": 2886,\n        \"min\": 1,\n        \"max\": 10000,\n        \"num_unique_values\": 10000,\n        \"samples\": [\n          6253,\n          4685,\n          1732\n        ],\n        \"semantic_type\": \"\",\n        \"description\": \"\"\n      }\n    },\n    {\n      \"column\": \"CustomerId\",\n      \"properties\": {\n        \"dtype\": \"number\",\n        \"std\": 71936,\n        \"min\": 15565701,\n        \"max\": 15815690,\n        \"num_unique_values\": 10000,\n        \"samples\": [\n          15687492,\n          15736963,\n          15721730\n        ],\n        \"semantic_type\": \"\",\n        \"description\": \"\"\n      }\n    },\n    {\n      \"column\": \"Surname\",\n      \"properties\": {\n        \"dtype\": \"category\",\n        \"num_unique_values\": 2932,\n        \"samples\": [\n          \"McGuirk\",\n          \"Torkelson\",\n          \"Rapuluchukwu\"\n        ],\n        \"semantic_type\": \"\",\n        \"description\": \"\"\n      }\n    },\n    {\n      \"column\": \"CreditScore\",\n      \"properties\": {\n        \"dtype\": \"number\",\n        \"std\": 96,\n        \"min\": 350,\n        \"max\": 850,\n        \"num_unique_values\": 460,\n        \"samples\": [\n          754,\n          533,\n          744\n        ],\n        \"semantic_type\": \"\",\n        \"description\": \"\"\n      }\n    },\n    {\n      \"column\": \"Geography\",\n      \"properties\": {\n        \"dtype\": \"category\",\n        \"num_unique_values\": 3,\n        \"samples\": [\n          \"France\",\n          \"Spain\",\n          \"Germany\"\n        ],\n        \"semantic_type\": \"\",\n        \"description\": \"\"\n      }\n    },\n    {\n      \"column\": \"Gender\",\n      \"properties\": {\n        \"dtype\": \"category\",\n        \"num_unique_values\": 2,\n        \"samples\": [\n          \"Male\",\n          \"Female\"\n        ],\n        \"semantic_type\": \"\",\n        \"description\": \"\"\n      }\n    },\n    {\n      \"column\": \"Age\",\n      \"properties\": {\n        \"dtype\": \"number\",\n        \"std\": 10,\n        \"min\": 18,\n        \"max\": 92,\n        \"num_unique_values\": 70,\n        \"samples\": [\n          61,\n          42\n        ],\n        \"semantic_type\": \"\",\n        \"description\": \"\"\n      }\n    },\n    {\n      \"column\": \"Tenure\",\n      \"properties\": {\n        \"dtype\": \"number\",\n        \"std\": 2,\n        \"min\": 0,\n        \"max\": 10,\n        \"num_unique_values\": 11,\n        \"samples\": [\n          6,\n          2\n        ],\n        \"semantic_type\": \"\",\n        \"description\": \"\"\n      }\n    },\n    {\n      \"column\": \"Balance\",\n      \"properties\": {\n        \"dtype\": \"number\",\n        \"std\": 62397.405202385955,\n        \"min\": 0.0,\n        \"max\": 250898.09,\n        \"num_unique_values\": 6382,\n        \"samples\": [\n          117707.18,\n          133050.97\n        ],\n        \"semantic_type\": \"\",\n        \"description\": \"\"\n      }\n    },\n    {\n      \"column\": \"NumOfProducts\",\n      \"properties\": {\n        \"dtype\": \"number\",\n        \"std\": 0,\n        \"min\": 1,\n        \"max\": 4,\n        \"num_unique_values\": 4,\n        \"samples\": [\n          3,\n          4\n        ],\n        \"semantic_type\": \"\",\n        \"description\": \"\"\n      }\n    },\n    {\n      \"column\": \"HasCrCard\",\n      \"properties\": {\n        \"dtype\": \"number\",\n        \"std\": 0,\n        \"min\": 0,\n        \"max\": 1,\n        \"num_unique_values\": 2,\n        \"samples\": [\n          0,\n          1\n        ],\n        \"semantic_type\": \"\",\n        \"description\": \"\"\n      }\n    },\n    {\n      \"column\": \"IsActiveMember\",\n      \"properties\": {\n        \"dtype\": \"number\",\n        \"std\": 0,\n        \"min\": 0,\n        \"max\": 1,\n        \"num_unique_values\": 2,\n        \"samples\": [\n          0,\n          1\n        ],\n        \"semantic_type\": \"\",\n        \"description\": \"\"\n      }\n    },\n    {\n      \"column\": \"EstimatedSalary\",\n      \"properties\": {\n        \"dtype\": \"number\",\n        \"std\": 57510.49281769816,\n        \"min\": 11.58,\n        \"max\": 199992.48,\n        \"num_unique_values\": 9999,\n        \"samples\": [\n          100809.99,\n          95273.73\n        ],\n        \"semantic_type\": \"\",\n        \"description\": \"\"\n      }\n    },\n    {\n      \"column\": \"Exited\",\n      \"properties\": {\n        \"dtype\": \"number\",\n        \"std\": 0,\n        \"min\": 0,\n        \"max\": 1,\n        \"num_unique_values\": 2,\n        \"samples\": [\n          0,\n          1\n        ],\n        \"semantic_type\": \"\",\n        \"description\": \"\"\n      }\n    }\n  ]\n}"
            }
          },
          "metadata": {},
          "execution_count": 19
        }
      ]
    },
    {
      "cell_type": "code",
      "source": [
        "## Divide the datset into dependent and independent daatset\n",
        "X=dataset.iloc[:,6:13]\n",
        "y=dataset.iloc[:,13]"
      ],
      "metadata": {
        "id": "BcsETjkuru7e"
      },
      "execution_count": 20,
      "outputs": []
    },
    {
      "cell_type": "code",
      "source": [
        "X.head()"
      ],
      "metadata": {
        "colab": {
          "base_uri": "https://localhost:8080/",
          "height": 206
        },
        "id": "O_3X3hqkru9q",
        "outputId": "397483c8-9c77-4e31-b61d-cce7066e862a"
      },
      "execution_count": 21,
      "outputs": [
        {
          "output_type": "execute_result",
          "data": {
            "text/plain": [
              "   Age  Tenure    Balance  NumOfProducts  HasCrCard  IsActiveMember  \\\n",
              "0   42       2       0.00              1          1               1   \n",
              "1   41       1   83807.86              1          0               1   \n",
              "2   42       8  159660.80              3          1               0   \n",
              "3   39       1       0.00              2          0               0   \n",
              "4   43       2  125510.82              1          1               1   \n",
              "\n",
              "   EstimatedSalary  \n",
              "0        101348.88  \n",
              "1        112542.58  \n",
              "2        113931.57  \n",
              "3         93826.63  \n",
              "4         79084.10  "
            ],
            "text/html": [
              "\n",
              "  <div id=\"df-ff3c0d06-33c7-496a-b4a0-622dd5a7ffe2\" class=\"colab-df-container\">\n",
              "    <div>\n",
              "<style scoped>\n",
              "    .dataframe tbody tr th:only-of-type {\n",
              "        vertical-align: middle;\n",
              "    }\n",
              "\n",
              "    .dataframe tbody tr th {\n",
              "        vertical-align: top;\n",
              "    }\n",
              "\n",
              "    .dataframe thead th {\n",
              "        text-align: right;\n",
              "    }\n",
              "</style>\n",
              "<table border=\"1\" class=\"dataframe\">\n",
              "  <thead>\n",
              "    <tr style=\"text-align: right;\">\n",
              "      <th></th>\n",
              "      <th>Age</th>\n",
              "      <th>Tenure</th>\n",
              "      <th>Balance</th>\n",
              "      <th>NumOfProducts</th>\n",
              "      <th>HasCrCard</th>\n",
              "      <th>IsActiveMember</th>\n",
              "      <th>EstimatedSalary</th>\n",
              "    </tr>\n",
              "  </thead>\n",
              "  <tbody>\n",
              "    <tr>\n",
              "      <th>0</th>\n",
              "      <td>42</td>\n",
              "      <td>2</td>\n",
              "      <td>0.00</td>\n",
              "      <td>1</td>\n",
              "      <td>1</td>\n",
              "      <td>1</td>\n",
              "      <td>101348.88</td>\n",
              "    </tr>\n",
              "    <tr>\n",
              "      <th>1</th>\n",
              "      <td>41</td>\n",
              "      <td>1</td>\n",
              "      <td>83807.86</td>\n",
              "      <td>1</td>\n",
              "      <td>0</td>\n",
              "      <td>1</td>\n",
              "      <td>112542.58</td>\n",
              "    </tr>\n",
              "    <tr>\n",
              "      <th>2</th>\n",
              "      <td>42</td>\n",
              "      <td>8</td>\n",
              "      <td>159660.80</td>\n",
              "      <td>3</td>\n",
              "      <td>1</td>\n",
              "      <td>0</td>\n",
              "      <td>113931.57</td>\n",
              "    </tr>\n",
              "    <tr>\n",
              "      <th>3</th>\n",
              "      <td>39</td>\n",
              "      <td>1</td>\n",
              "      <td>0.00</td>\n",
              "      <td>2</td>\n",
              "      <td>0</td>\n",
              "      <td>0</td>\n",
              "      <td>93826.63</td>\n",
              "    </tr>\n",
              "    <tr>\n",
              "      <th>4</th>\n",
              "      <td>43</td>\n",
              "      <td>2</td>\n",
              "      <td>125510.82</td>\n",
              "      <td>1</td>\n",
              "      <td>1</td>\n",
              "      <td>1</td>\n",
              "      <td>79084.10</td>\n",
              "    </tr>\n",
              "  </tbody>\n",
              "</table>\n",
              "</div>\n",
              "    <div class=\"colab-df-buttons\">\n",
              "\n",
              "  <div class=\"colab-df-container\">\n",
              "    <button class=\"colab-df-convert\" onclick=\"convertToInteractive('df-ff3c0d06-33c7-496a-b4a0-622dd5a7ffe2')\"\n",
              "            title=\"Convert this dataframe to an interactive table.\"\n",
              "            style=\"display:none;\">\n",
              "\n",
              "  <svg xmlns=\"http://www.w3.org/2000/svg\" height=\"24px\" viewBox=\"0 -960 960 960\">\n",
              "    <path d=\"M120-120v-720h720v720H120Zm60-500h600v-160H180v160Zm220 220h160v-160H400v160Zm0 220h160v-160H400v160ZM180-400h160v-160H180v160Zm440 0h160v-160H620v160ZM180-180h160v-160H180v160Zm440 0h160v-160H620v160Z\"/>\n",
              "  </svg>\n",
              "    </button>\n",
              "\n",
              "  <style>\n",
              "    .colab-df-container {\n",
              "      display:flex;\n",
              "      gap: 12px;\n",
              "    }\n",
              "\n",
              "    .colab-df-convert {\n",
              "      background-color: #E8F0FE;\n",
              "      border: none;\n",
              "      border-radius: 50%;\n",
              "      cursor: pointer;\n",
              "      display: none;\n",
              "      fill: #1967D2;\n",
              "      height: 32px;\n",
              "      padding: 0 0 0 0;\n",
              "      width: 32px;\n",
              "    }\n",
              "\n",
              "    .colab-df-convert:hover {\n",
              "      background-color: #E2EBFA;\n",
              "      box-shadow: 0px 1px 2px rgba(60, 64, 67, 0.3), 0px 1px 3px 1px rgba(60, 64, 67, 0.15);\n",
              "      fill: #174EA6;\n",
              "    }\n",
              "\n",
              "    .colab-df-buttons div {\n",
              "      margin-bottom: 4px;\n",
              "    }\n",
              "\n",
              "    [theme=dark] .colab-df-convert {\n",
              "      background-color: #3B4455;\n",
              "      fill: #D2E3FC;\n",
              "    }\n",
              "\n",
              "    [theme=dark] .colab-df-convert:hover {\n",
              "      background-color: #434B5C;\n",
              "      box-shadow: 0px 1px 3px 1px rgba(0, 0, 0, 0.15);\n",
              "      filter: drop-shadow(0px 1px 2px rgba(0, 0, 0, 0.3));\n",
              "      fill: #FFFFFF;\n",
              "    }\n",
              "  </style>\n",
              "\n",
              "    <script>\n",
              "      const buttonEl =\n",
              "        document.querySelector('#df-ff3c0d06-33c7-496a-b4a0-622dd5a7ffe2 button.colab-df-convert');\n",
              "      buttonEl.style.display =\n",
              "        google.colab.kernel.accessAllowed ? 'block' : 'none';\n",
              "\n",
              "      async function convertToInteractive(key) {\n",
              "        const element = document.querySelector('#df-ff3c0d06-33c7-496a-b4a0-622dd5a7ffe2');\n",
              "        const dataTable =\n",
              "          await google.colab.kernel.invokeFunction('convertToInteractive',\n",
              "                                                    [key], {});\n",
              "        if (!dataTable) return;\n",
              "\n",
              "        const docLinkHtml = 'Like what you see? Visit the ' +\n",
              "          '<a target=\"_blank\" href=https://colab.research.google.com/notebooks/data_table.ipynb>data table notebook</a>'\n",
              "          + ' to learn more about interactive tables.';\n",
              "        element.innerHTML = '';\n",
              "        dataTable['output_type'] = 'display_data';\n",
              "        await google.colab.output.renderOutput(dataTable, element);\n",
              "        const docLink = document.createElement('div');\n",
              "        docLink.innerHTML = docLinkHtml;\n",
              "        element.appendChild(docLink);\n",
              "      }\n",
              "    </script>\n",
              "  </div>\n",
              "\n",
              "\n",
              "<div id=\"df-970556bb-d95f-412a-9d03-347a02e4be83\">\n",
              "  <button class=\"colab-df-quickchart\" onclick=\"quickchart('df-970556bb-d95f-412a-9d03-347a02e4be83')\"\n",
              "            title=\"Suggest charts\"\n",
              "            style=\"display:none;\">\n",
              "\n",
              "<svg xmlns=\"http://www.w3.org/2000/svg\" height=\"24px\"viewBox=\"0 0 24 24\"\n",
              "     width=\"24px\">\n",
              "    <g>\n",
              "        <path d=\"M19 3H5c-1.1 0-2 .9-2 2v14c0 1.1.9 2 2 2h14c1.1 0 2-.9 2-2V5c0-1.1-.9-2-2-2zM9 17H7v-7h2v7zm4 0h-2V7h2v10zm4 0h-2v-4h2v4z\"/>\n",
              "    </g>\n",
              "</svg>\n",
              "  </button>\n",
              "\n",
              "<style>\n",
              "  .colab-df-quickchart {\n",
              "      --bg-color: #E8F0FE;\n",
              "      --fill-color: #1967D2;\n",
              "      --hover-bg-color: #E2EBFA;\n",
              "      --hover-fill-color: #174EA6;\n",
              "      --disabled-fill-color: #AAA;\n",
              "      --disabled-bg-color: #DDD;\n",
              "  }\n",
              "\n",
              "  [theme=dark] .colab-df-quickchart {\n",
              "      --bg-color: #3B4455;\n",
              "      --fill-color: #D2E3FC;\n",
              "      --hover-bg-color: #434B5C;\n",
              "      --hover-fill-color: #FFFFFF;\n",
              "      --disabled-bg-color: #3B4455;\n",
              "      --disabled-fill-color: #666;\n",
              "  }\n",
              "\n",
              "  .colab-df-quickchart {\n",
              "    background-color: var(--bg-color);\n",
              "    border: none;\n",
              "    border-radius: 50%;\n",
              "    cursor: pointer;\n",
              "    display: none;\n",
              "    fill: var(--fill-color);\n",
              "    height: 32px;\n",
              "    padding: 0;\n",
              "    width: 32px;\n",
              "  }\n",
              "\n",
              "  .colab-df-quickchart:hover {\n",
              "    background-color: var(--hover-bg-color);\n",
              "    box-shadow: 0 1px 2px rgba(60, 64, 67, 0.3), 0 1px 3px 1px rgba(60, 64, 67, 0.15);\n",
              "    fill: var(--button-hover-fill-color);\n",
              "  }\n",
              "\n",
              "  .colab-df-quickchart-complete:disabled,\n",
              "  .colab-df-quickchart-complete:disabled:hover {\n",
              "    background-color: var(--disabled-bg-color);\n",
              "    fill: var(--disabled-fill-color);\n",
              "    box-shadow: none;\n",
              "  }\n",
              "\n",
              "  .colab-df-spinner {\n",
              "    border: 2px solid var(--fill-color);\n",
              "    border-color: transparent;\n",
              "    border-bottom-color: var(--fill-color);\n",
              "    animation:\n",
              "      spin 1s steps(1) infinite;\n",
              "  }\n",
              "\n",
              "  @keyframes spin {\n",
              "    0% {\n",
              "      border-color: transparent;\n",
              "      border-bottom-color: var(--fill-color);\n",
              "      border-left-color: var(--fill-color);\n",
              "    }\n",
              "    20% {\n",
              "      border-color: transparent;\n",
              "      border-left-color: var(--fill-color);\n",
              "      border-top-color: var(--fill-color);\n",
              "    }\n",
              "    30% {\n",
              "      border-color: transparent;\n",
              "      border-left-color: var(--fill-color);\n",
              "      border-top-color: var(--fill-color);\n",
              "      border-right-color: var(--fill-color);\n",
              "    }\n",
              "    40% {\n",
              "      border-color: transparent;\n",
              "      border-right-color: var(--fill-color);\n",
              "      border-top-color: var(--fill-color);\n",
              "    }\n",
              "    60% {\n",
              "      border-color: transparent;\n",
              "      border-right-color: var(--fill-color);\n",
              "    }\n",
              "    80% {\n",
              "      border-color: transparent;\n",
              "      border-right-color: var(--fill-color);\n",
              "      border-bottom-color: var(--fill-color);\n",
              "    }\n",
              "    90% {\n",
              "      border-color: transparent;\n",
              "      border-bottom-color: var(--fill-color);\n",
              "    }\n",
              "  }\n",
              "</style>\n",
              "\n",
              "  <script>\n",
              "    async function quickchart(key) {\n",
              "      const quickchartButtonEl =\n",
              "        document.querySelector('#' + key + ' button');\n",
              "      quickchartButtonEl.disabled = true;  // To prevent multiple clicks.\n",
              "      quickchartButtonEl.classList.add('colab-df-spinner');\n",
              "      try {\n",
              "        const charts = await google.colab.kernel.invokeFunction(\n",
              "            'suggestCharts', [key], {});\n",
              "      } catch (error) {\n",
              "        console.error('Error during call to suggestCharts:', error);\n",
              "      }\n",
              "      quickchartButtonEl.classList.remove('colab-df-spinner');\n",
              "      quickchartButtonEl.classList.add('colab-df-quickchart-complete');\n",
              "    }\n",
              "    (() => {\n",
              "      let quickchartButtonEl =\n",
              "        document.querySelector('#df-970556bb-d95f-412a-9d03-347a02e4be83 button');\n",
              "      quickchartButtonEl.style.display =\n",
              "        google.colab.kernel.accessAllowed ? 'block' : 'none';\n",
              "    })();\n",
              "  </script>\n",
              "</div>\n",
              "\n",
              "    </div>\n",
              "  </div>\n"
            ],
            "application/vnd.google.colaboratory.intrinsic+json": {
              "type": "dataframe",
              "variable_name": "X",
              "summary": "{\n  \"name\": \"X\",\n  \"rows\": 10000,\n  \"fields\": [\n    {\n      \"column\": \"Age\",\n      \"properties\": {\n        \"dtype\": \"number\",\n        \"std\": 10,\n        \"min\": 18,\n        \"max\": 92,\n        \"num_unique_values\": 70,\n        \"samples\": [\n          61,\n          42,\n          59\n        ],\n        \"semantic_type\": \"\",\n        \"description\": \"\"\n      }\n    },\n    {\n      \"column\": \"Tenure\",\n      \"properties\": {\n        \"dtype\": \"number\",\n        \"std\": 2,\n        \"min\": 0,\n        \"max\": 10,\n        \"num_unique_values\": 11,\n        \"samples\": [\n          6,\n          2,\n          9\n        ],\n        \"semantic_type\": \"\",\n        \"description\": \"\"\n      }\n    },\n    {\n      \"column\": \"Balance\",\n      \"properties\": {\n        \"dtype\": \"number\",\n        \"std\": 62397.405202385955,\n        \"min\": 0.0,\n        \"max\": 250898.09,\n        \"num_unique_values\": 6382,\n        \"samples\": [\n          117707.18,\n          133050.97,\n          124271.26\n        ],\n        \"semantic_type\": \"\",\n        \"description\": \"\"\n      }\n    },\n    {\n      \"column\": \"NumOfProducts\",\n      \"properties\": {\n        \"dtype\": \"number\",\n        \"std\": 0,\n        \"min\": 1,\n        \"max\": 4,\n        \"num_unique_values\": 4,\n        \"samples\": [\n          3,\n          4,\n          1\n        ],\n        \"semantic_type\": \"\",\n        \"description\": \"\"\n      }\n    },\n    {\n      \"column\": \"HasCrCard\",\n      \"properties\": {\n        \"dtype\": \"number\",\n        \"std\": 0,\n        \"min\": 0,\n        \"max\": 1,\n        \"num_unique_values\": 2,\n        \"samples\": [\n          0,\n          1\n        ],\n        \"semantic_type\": \"\",\n        \"description\": \"\"\n      }\n    },\n    {\n      \"column\": \"IsActiveMember\",\n      \"properties\": {\n        \"dtype\": \"number\",\n        \"std\": 0,\n        \"min\": 0,\n        \"max\": 1,\n        \"num_unique_values\": 2,\n        \"samples\": [\n          0,\n          1\n        ],\n        \"semantic_type\": \"\",\n        \"description\": \"\"\n      }\n    },\n    {\n      \"column\": \"EstimatedSalary\",\n      \"properties\": {\n        \"dtype\": \"number\",\n        \"std\": 57510.49281769816,\n        \"min\": 11.58,\n        \"max\": 199992.48,\n        \"num_unique_values\": 9999,\n        \"samples\": [\n          100809.99,\n          95273.73\n        ],\n        \"semantic_type\": \"\",\n        \"description\": \"\"\n      }\n    }\n  ]\n}"
            }
          },
          "metadata": {},
          "execution_count": 21
        }
      ]
    },
    {
      "cell_type": "code",
      "source": [
        "y.head()"
      ],
      "metadata": {
        "colab": {
          "base_uri": "https://localhost:8080/"
        },
        "id": "LgHyhXRyrvAD",
        "outputId": "9df3d13a-5afc-4227-a004-ea2f32b4e2f7"
      },
      "execution_count": 22,
      "outputs": [
        {
          "output_type": "execute_result",
          "data": {
            "text/plain": [
              "0    1\n",
              "1    0\n",
              "2    1\n",
              "3    0\n",
              "4    0\n",
              "Name: Exited, dtype: int64"
            ]
          },
          "metadata": {},
          "execution_count": 22
        }
      ]
    },
    {
      "cell_type": "code",
      "source": [
        "#now drop geography and Gender Column\n",
        "X.drop(['Geography','Gender'],axis=1)  #axis=1 means that we need ro drop the column notbthe rows\n",
        "#Now concatenate the dummy variables with dataframe\n",
        "#X=pd.concat([X,geography,gender],axis=1)"
      ],
      "metadata": {
        "id": "0GI4u3RRrvDf"
      },
      "execution_count": null,
      "outputs": []
    },
    {
      "cell_type": "code",
      "source": [
        "print(X)"
      ],
      "metadata": {
        "colab": {
          "base_uri": "https://localhost:8080/"
        },
        "id": "MeFYC6SzztyJ",
        "outputId": "2c48af15-eac4-465b-f4f2-c048ff3a41b2"
      },
      "execution_count": 25,
      "outputs": [
        {
          "output_type": "stream",
          "name": "stdout",
          "text": [
            "      Age  Tenure    Balance  NumOfProducts  HasCrCard  IsActiveMember  \\\n",
            "0      42       2       0.00              1          1               1   \n",
            "1      41       1   83807.86              1          0               1   \n",
            "2      42       8  159660.80              3          1               0   \n",
            "3      39       1       0.00              2          0               0   \n",
            "4      43       2  125510.82              1          1               1   \n",
            "...   ...     ...        ...            ...        ...             ...   \n",
            "9995   39       5       0.00              2          1               0   \n",
            "9996   35      10   57369.61              1          1               1   \n",
            "9997   36       7       0.00              1          0               1   \n",
            "9998   42       3   75075.31              2          1               0   \n",
            "9999   28       4  130142.79              1          1               0   \n",
            "\n",
            "      EstimatedSalary  \n",
            "0           101348.88  \n",
            "1           112542.58  \n",
            "2           113931.57  \n",
            "3            93826.63  \n",
            "4            79084.10  \n",
            "...               ...  \n",
            "9995         96270.64  \n",
            "9996        101699.77  \n",
            "9997         42085.58  \n",
            "9998         92888.52  \n",
            "9999         38190.78  \n",
            "\n",
            "[10000 rows x 7 columns]\n"
          ]
        }
      ]
    },
    {
      "cell_type": "code",
      "source": [
        "#Ques->For which algorithm is feature scaling required\n",
        "#Splitting the daatset into training Set and tset set\n",
        "from sklearn.model_selection import train_test_split\n",
        "X_train,X_test,y_tarin,y_test=train_test_split(X,y,test_size=0.2,random_state=1)\n"
      ],
      "metadata": {
        "id": "9HMGVC_gvTh2"
      },
      "execution_count": 26,
      "outputs": []
    },
    {
      "cell_type": "markdown",
      "source": [
        "The StandardScaler is a technique used in machine learning and data preprocessing to standardize the features (i.e., columns) of a dataset. It is used to ensure that all features have the same scale, which can be important for many machine learning algorithms. Here are some reasons why StandardScaler is used:\n",
        "\n",
        "**Mean Centering: **StandardScaler centers the data around zero by subtracting the mean of each feature. This ensures that each feature has a mean of zero, which can help in removing bias in the dataset.\n",
        "\n",
        "**Scaling to Unit Variance: **After centering the data, StandardScaler scales each feature to have unit variance. This means that the variance of each feature is scaled to 1. This is important because features with larger variances can dominate the learning process, leading to biased results.\n",
        "\n",
        "**Preserving Distribution Shape: **StandardScaler preserves the shape of the distribution of the original data while scaling it. It does not change the distribution's shape but only its location and scale.\n",
        "\n",
        "**Improving Model Performance:** Many machine learning algorithms perform better or converge faster when features are scaled to a similar range. StandardScaler helps in achieving this by standardizing the features.\n",
        "\n",
        "**Compatibility with Regularization: **Regularization techniques like Ridge and Lasso regression assume that all features are on the same scale. StandardScaler ensures that this assumption holds true, which can improve the effectiveness of regularization.\n",
        "\n",
        "**Interpretability of Coefficients:** When interpreting the coefficients of linear models, it's easier if all features are on the same scale. StandardScaler facilitates this interpretation by ensuring that all features have similar ranges of values.\n",
        "\n",
        "**Handling Outliers:** StandardScaler is less affected by outliers compared to other scaling techniques like Min-Max scaling. Since it scales data based on mean and variance, outliers have less impact on the scaling process."
      ],
      "metadata": {
        "id": "TbTd-KhNx6ZF"
      }
    },
    {
      "cell_type": "code",
      "source": [
        "#feature Scaling\n",
        "#Ques->Why fit transform is applied earlier than transform\n",
        "from sklearn.preprocessing import StandardScaler\n",
        "sc=StandardScaler()\n",
        "X_train=sc.fit_transform(X_train)\n",
        "X_test=sc.transform(X_test)"
      ],
      "metadata": {
        "id": "DBgLpdPvvTkd"
      },
      "execution_count": 27,
      "outputs": []
    },
    {
      "cell_type": "code",
      "source": [
        "X_train"
      ],
      "metadata": {
        "colab": {
          "base_uri": "https://localhost:8080/"
        },
        "id": "t12BE_ezvTmo",
        "outputId": "98393150-2e79-49f7-e6f3-4561fc235ec8"
      },
      "execution_count": 29,
      "outputs": [
        {
          "output_type": "execute_result",
          "data": {
            "text/plain": [
              "array([[-0.94449979, -0.70174202,  0.58817274, ..., -1.55337352,\n",
              "         0.97725852,  0.42739449],\n",
              "       [-0.94449979, -0.35520275,  0.46984886, ..., -1.55337352,\n",
              "        -1.02327069, -1.02548708],\n",
              "       [ 0.77498705,  0.33787579,  0.85878772, ...,  0.64376017,\n",
              "         0.97725852, -0.94479772],\n",
              "       ...,\n",
              "       [ 0.58393295,  1.3774936 , -1.22599173, ...,  0.64376017,\n",
              "         0.97725852, -0.14096853],\n",
              "       [ 0.01077067,  1.03095433, -1.22599173, ...,  0.64376017,\n",
              "         0.97725852,  0.01781218],\n",
              "       [ 0.29735181,  0.33787579,  0.37995545, ...,  0.64376017,\n",
              "        -1.02327069, -1.15822478]])"
            ]
          },
          "metadata": {},
          "execution_count": 29
        }
      ]
    },
    {
      "cell_type": "code",
      "source": [
        "X_test"
      ],
      "metadata": {
        "colab": {
          "base_uri": "https://localhost:8080/"
        },
        "id": "nsg-bNjgvTpM",
        "outputId": "e050f6ab-c6d0-424d-a955-7d357f27b499"
      },
      "execution_count": 31,
      "outputs": [
        {
          "output_type": "execute_result",
          "data": {
            "text/plain": [
              "array([[ 0.77498705, -1.0482813 , -1.22599173, ...,  0.64376017,\n",
              "         0.97725852, -0.05360571],\n",
              "       [-0.46686456, -0.70174202,  1.07152411, ...,  0.64376017,\n",
              "        -1.02327069, -0.58392685],\n",
              "       [ 0.29735181, -1.0482813 , -1.22599173, ..., -1.55337352,\n",
              "         0.97725852, -0.16685331],\n",
              "       ...,\n",
              "       [-0.46686456,  1.72403288, -1.22599173, ..., -1.55337352,\n",
              "         0.97725852,  1.0669965 ],\n",
              "       [-0.84897275, -1.0482813 ,  0.39363749, ...,  0.64376017,\n",
              "         0.97725852,  1.13101314],\n",
              "       [ 1.25262228,  1.3774936 ,  1.09403221, ...,  0.64376017,\n",
              "         0.97725852, -0.88790165]])"
            ]
          },
          "metadata": {},
          "execution_count": 31
        }
      ]
    },
    {
      "cell_type": "code",
      "source": [
        "X_train.shape"
      ],
      "metadata": {
        "colab": {
          "base_uri": "https://localhost:8080/"
        },
        "id": "uF_zVWsNvTrw",
        "outputId": "f5ad72ab-caa5-4fd8-f838-a9461145edc7"
      },
      "execution_count": 30,
      "outputs": [
        {
          "output_type": "execute_result",
          "data": {
            "text/plain": [
              "(8000, 7)"
            ]
          },
          "metadata": {},
          "execution_count": 30
        }
      ]
    },
    {
      "cell_type": "code",
      "source": [
        "X_test.shape"
      ],
      "metadata": {
        "colab": {
          "base_uri": "https://localhost:8080/"
        },
        "id": "WDdC9LV70UZU",
        "outputId": "b0a9e7e3-55d4-4a93-ef62-4bbeb619545f"
      },
      "execution_count": 32,
      "outputs": [
        {
          "output_type": "execute_result",
          "data": {
            "text/plain": [
              "(2000, 7)"
            ]
          },
          "metadata": {},
          "execution_count": 32
        }
      ]
    },
    {
      "cell_type": "code",
      "source": [
        "#Part 2 now lets create the ANN\n",
        "from tensorflow.keras.models import Sequential\n",
        "from tensorflow.keras.layers import Dense\n",
        "from tensorflow.keras.layers import LeakyReLU,PReLU,ELU,ReLU\n",
        "from tensorflow.keras.layers import Dropout"
      ],
      "metadata": {
        "id": "JNMHhnqWvTuW"
      },
      "execution_count": 33,
      "outputs": []
    },
    {
      "cell_type": "markdown",
      "source": [
        "**SEQUENTIAL:** Used to do the forward and backward propagation.\n",
        "\n",
        "**DENSE:**Used to create the neurons and hidden layer.\n",
        "\n",
        "**ACTIVATION FUNCTION:**LeakyReLU,PReLU,ELU,ReLU\n",
        "\n",
        "**DROPOUT:**prevent overfitting by deactivating the neuron during training"
      ],
      "metadata": {
        "id": "h4bjKzyq2H3J"
      }
    },
    {
      "cell_type": "code",
      "source": [
        "#Intialize ANN\n",
        "classifier=Sequential()"
      ],
      "metadata": {
        "id": "X2LTDqPCvTxu"
      },
      "execution_count": 34,
      "outputs": []
    },
    {
      "cell_type": "code",
      "source": [
        "#Adding the Input Layer\n",
        "classifier.add(Dense(units=11,activation='relu'))\n",
        "#Dropout some neurons at each level\n",
        "classifier.add(Dropout(0.3))"
      ],
      "metadata": {
        "id": "ms70xP8luqDg"
      },
      "execution_count": 73,
      "outputs": []
    },
    {
      "cell_type": "code",
      "source": [
        "#Adding first hidden layer\n",
        "classifier.add(Dense(units=7,activation='relu'))#units=neurons\n",
        "classifier.add(Dropout(0.2))"
      ],
      "metadata": {
        "id": "9GMcWeAhrvG4"
      },
      "execution_count": 74,
      "outputs": []
    },
    {
      "cell_type": "code",
      "source": [
        "#Adding Second hidden layer\n",
        "classifier.add(Dense(units=6,activation='relu'))#units=neurons"
      ],
      "metadata": {
        "id": "ATkGlGXkq_Qj"
      },
      "execution_count": 75,
      "outputs": []
    },
    {
      "cell_type": "code",
      "source": [
        "## Adiingb the output layer\n",
        "classifier.add(Dense(units=1,activation='sigmoid'))#units=neurons"
      ],
      "metadata": {
        "id": "NGlrSG6Z4T3e"
      },
      "execution_count": 76,
      "outputs": []
    },
    {
      "cell_type": "markdown",
      "source": [
        "**Train the Neural Network**"
      ],
      "metadata": {
        "id": "hhwwzOqU4gZY"
      }
    },
    {
      "cell_type": "code",
      "source": [
        "classifier.compile(optimizer='adam',loss='binary_crossentropy',metrics=['accuracy'])\n",
        "#By default adam uses his own learning rate"
      ],
      "metadata": {
        "id": "yDqy-XcF4T5-"
      },
      "execution_count": 77,
      "outputs": []
    },
    {
      "cell_type": "code",
      "source": [
        "#We avn also provide our learning rate also\n",
        "import tensorflow\n",
        "tensorflow.keras.optimizers.Adam(learning_rate=0.01)"
      ],
      "metadata": {
        "colab": {
          "base_uri": "https://localhost:8080/"
        },
        "id": "B9LpgDQd4T8G",
        "outputId": "e0e78f3b-7efd-4dd3-b791-158047fc7f0e"
      },
      "execution_count": 78,
      "outputs": [
        {
          "output_type": "execute_result",
          "data": {
            "text/plain": [
              "<keras.src.optimizers.adam.Adam at 0x7f61ec15ffd0>"
            ]
          },
          "metadata": {},
          "execution_count": 78
        }
      ]
    },
    {
      "cell_type": "code",
      "source": [
        "#Early Stopping\n",
        "import tensorflow as tf\n",
        "early_stopping=tf.keras.callbacks.EarlyStopping(\n",
        "    monitor=\"val_loss\",\n",
        "    min_delta=0.0001,\n",
        "    patience=20,\n",
        "    verbose=1,\n",
        "    mode=\"auto\",\n",
        "    baseline=None,\n",
        "    restore_best_weights=False,\n",
        "    start_from_epoch=0,\n",
        ")"
      ],
      "metadata": {
        "id": "iT05iGqvJdIO"
      },
      "execution_count": 79,
      "outputs": []
    },
    {
      "cell_type": "code",
      "source": [
        "model_history=classifier.fit(X_train,y_tarin,validation_split=0.33,batch_size=10,epochs=1000,callbacks=early_stopping)"
      ],
      "metadata": {
        "colab": {
          "base_uri": "https://localhost:8080/"
        },
        "id": "h09M2Qpm5gZM",
        "outputId": "b588086b-ae4c-49d6-c4f1-d32cdb0524d2"
      },
      "execution_count": 80,
      "outputs": [
        {
          "output_type": "stream",
          "name": "stdout",
          "text": [
            "Epoch 1/1000\n",
            "536/536 [==============================] - 7s 7ms/step - loss: 0.4764 - accuracy: 0.8252 - val_loss: 0.3730 - val_accuracy: 0.8417\n",
            "Epoch 2/1000\n",
            "536/536 [==============================] - 3s 6ms/step - loss: 0.4014 - accuracy: 0.8328 - val_loss: 0.3698 - val_accuracy: 0.8531\n",
            "Epoch 3/1000\n",
            "536/536 [==============================] - 3s 5ms/step - loss: 0.3878 - accuracy: 0.8397 - val_loss: 0.3672 - val_accuracy: 0.8501\n",
            "Epoch 4/1000\n",
            "536/536 [==============================] - 3s 6ms/step - loss: 0.3793 - accuracy: 0.8464 - val_loss: 0.3602 - val_accuracy: 0.8557\n",
            "Epoch 5/1000\n",
            "536/536 [==============================] - 4s 7ms/step - loss: 0.3791 - accuracy: 0.8442 - val_loss: 0.3619 - val_accuracy: 0.8561\n",
            "Epoch 6/1000\n",
            "536/536 [==============================] - 3s 6ms/step - loss: 0.3757 - accuracy: 0.8453 - val_loss: 0.3636 - val_accuracy: 0.8546\n",
            "Epoch 7/1000\n",
            "536/536 [==============================] - 3s 5ms/step - loss: 0.3723 - accuracy: 0.8461 - val_loss: 0.3729 - val_accuracy: 0.8573\n",
            "Epoch 8/1000\n",
            "536/536 [==============================] - 4s 7ms/step - loss: 0.3696 - accuracy: 0.8457 - val_loss: 0.3651 - val_accuracy: 0.8550\n",
            "Epoch 9/1000\n",
            "536/536 [==============================] - 3s 6ms/step - loss: 0.3680 - accuracy: 0.8505 - val_loss: 0.3584 - val_accuracy: 0.8504\n",
            "Epoch 10/1000\n",
            "536/536 [==============================] - 3s 5ms/step - loss: 0.3648 - accuracy: 0.8498 - val_loss: 0.3603 - val_accuracy: 0.8576\n",
            "Epoch 11/1000\n",
            "536/536 [==============================] - 3s 6ms/step - loss: 0.3608 - accuracy: 0.8530 - val_loss: 0.3570 - val_accuracy: 0.8580\n",
            "Epoch 12/1000\n",
            "536/536 [==============================] - 4s 7ms/step - loss: 0.3644 - accuracy: 0.8554 - val_loss: 0.3588 - val_accuracy: 0.8550\n",
            "Epoch 13/1000\n",
            "536/536 [==============================] - 3s 6ms/step - loss: 0.3593 - accuracy: 0.8539 - val_loss: 0.3712 - val_accuracy: 0.8455\n",
            "Epoch 14/1000\n",
            "536/536 [==============================] - 3s 5ms/step - loss: 0.3630 - accuracy: 0.8541 - val_loss: 0.3633 - val_accuracy: 0.8508\n",
            "Epoch 15/1000\n",
            "536/536 [==============================] - 3s 6ms/step - loss: 0.3616 - accuracy: 0.8502 - val_loss: 0.3609 - val_accuracy: 0.8554\n",
            "Epoch 16/1000\n",
            "536/536 [==============================] - 4s 7ms/step - loss: 0.3588 - accuracy: 0.8574 - val_loss: 0.3653 - val_accuracy: 0.8531\n",
            "Epoch 17/1000\n",
            "536/536 [==============================] - 3s 6ms/step - loss: 0.3538 - accuracy: 0.8537 - val_loss: 0.3615 - val_accuracy: 0.8455\n",
            "Epoch 18/1000\n",
            "536/536 [==============================] - 3s 6ms/step - loss: 0.3584 - accuracy: 0.8546 - val_loss: 0.3579 - val_accuracy: 0.8523\n",
            "Epoch 19/1000\n",
            "536/536 [==============================] - 3s 6ms/step - loss: 0.3542 - accuracy: 0.8505 - val_loss: 0.3569 - val_accuracy: 0.8565\n",
            "Epoch 20/1000\n",
            "536/536 [==============================] - 4s 7ms/step - loss: 0.3598 - accuracy: 0.8537 - val_loss: 0.3584 - val_accuracy: 0.8565\n",
            "Epoch 21/1000\n",
            "536/536 [==============================] - 3s 6ms/step - loss: 0.3541 - accuracy: 0.8541 - val_loss: 0.3576 - val_accuracy: 0.8538\n",
            "Epoch 22/1000\n",
            "536/536 [==============================] - 3s 6ms/step - loss: 0.3562 - accuracy: 0.8571 - val_loss: 0.3606 - val_accuracy: 0.8527\n",
            "Epoch 23/1000\n",
            "536/536 [==============================] - 4s 7ms/step - loss: 0.3596 - accuracy: 0.8548 - val_loss: 0.3638 - val_accuracy: 0.8516\n",
            "Epoch 24/1000\n",
            "536/536 [==============================] - 3s 6ms/step - loss: 0.3625 - accuracy: 0.8526 - val_loss: 0.3572 - val_accuracy: 0.8550\n",
            "Epoch 25/1000\n",
            "536/536 [==============================] - 3s 6ms/step - loss: 0.3549 - accuracy: 0.8554 - val_loss: 0.3631 - val_accuracy: 0.8542\n",
            "Epoch 26/1000\n",
            "536/536 [==============================] - 3s 5ms/step - loss: 0.3610 - accuracy: 0.8537 - val_loss: 0.3568 - val_accuracy: 0.8550\n",
            "Epoch 27/1000\n",
            "536/536 [==============================] - 4s 7ms/step - loss: 0.3564 - accuracy: 0.8578 - val_loss: 0.3567 - val_accuracy: 0.8542\n",
            "Epoch 28/1000\n",
            "536/536 [==============================] - 3s 6ms/step - loss: 0.3541 - accuracy: 0.8580 - val_loss: 0.3626 - val_accuracy: 0.8508\n",
            "Epoch 29/1000\n",
            "536/536 [==============================] - 3s 6ms/step - loss: 0.3573 - accuracy: 0.8548 - val_loss: 0.3583 - val_accuracy: 0.8561\n",
            "Epoch 30/1000\n",
            "536/536 [==============================] - 3s 5ms/step - loss: 0.3581 - accuracy: 0.8552 - val_loss: 0.3568 - val_accuracy: 0.8554\n",
            "Epoch 31/1000\n",
            "536/536 [==============================] - 4s 7ms/step - loss: 0.3620 - accuracy: 0.8539 - val_loss: 0.3583 - val_accuracy: 0.8561\n",
            "Epoch 32/1000\n",
            "536/536 [==============================] - 3s 6ms/step - loss: 0.3578 - accuracy: 0.8541 - val_loss: 0.3601 - val_accuracy: 0.8550\n",
            "Epoch 33/1000\n",
            "536/536 [==============================] - 3s 6ms/step - loss: 0.3553 - accuracy: 0.8556 - val_loss: 0.3577 - val_accuracy: 0.8516\n",
            "Epoch 34/1000\n",
            "536/536 [==============================] - 4s 7ms/step - loss: 0.3517 - accuracy: 0.8567 - val_loss: 0.3577 - val_accuracy: 0.8523\n",
            "Epoch 35/1000\n",
            "536/536 [==============================] - 3s 5ms/step - loss: 0.3545 - accuracy: 0.8548 - val_loss: 0.3597 - val_accuracy: 0.8550\n",
            "Epoch 36/1000\n",
            "536/536 [==============================] - 3s 5ms/step - loss: 0.3592 - accuracy: 0.8550 - val_loss: 0.3550 - val_accuracy: 0.8535\n",
            "Epoch 37/1000\n",
            "536/536 [==============================] - 3s 5ms/step - loss: 0.3560 - accuracy: 0.8554 - val_loss: 0.3614 - val_accuracy: 0.8565\n",
            "Epoch 38/1000\n",
            "536/536 [==============================] - 4s 8ms/step - loss: 0.3549 - accuracy: 0.8520 - val_loss: 0.3564 - val_accuracy: 0.8561\n",
            "Epoch 39/1000\n",
            "536/536 [==============================] - 3s 5ms/step - loss: 0.3519 - accuracy: 0.8541 - val_loss: 0.3547 - val_accuracy: 0.8542\n",
            "Epoch 40/1000\n",
            "536/536 [==============================] - 3s 5ms/step - loss: 0.3499 - accuracy: 0.8556 - val_loss: 0.3574 - val_accuracy: 0.8576\n",
            "Epoch 41/1000\n",
            "536/536 [==============================] - 3s 6ms/step - loss: 0.3540 - accuracy: 0.8546 - val_loss: 0.3570 - val_accuracy: 0.8554\n",
            "Epoch 42/1000\n",
            "536/536 [==============================] - 4s 7ms/step - loss: 0.3509 - accuracy: 0.8567 - val_loss: 0.3517 - val_accuracy: 0.8550\n",
            "Epoch 43/1000\n",
            "536/536 [==============================] - 3s 6ms/step - loss: 0.3523 - accuracy: 0.8558 - val_loss: 0.3634 - val_accuracy: 0.8538\n",
            "Epoch 44/1000\n",
            "536/536 [==============================] - 3s 5ms/step - loss: 0.3510 - accuracy: 0.8587 - val_loss: 0.3574 - val_accuracy: 0.8554\n",
            "Epoch 45/1000\n",
            "536/536 [==============================] - 3s 6ms/step - loss: 0.3507 - accuracy: 0.8574 - val_loss: 0.3570 - val_accuracy: 0.8512\n",
            "Epoch 46/1000\n",
            "536/536 [==============================] - 4s 7ms/step - loss: 0.3540 - accuracy: 0.8543 - val_loss: 0.3570 - val_accuracy: 0.8531\n",
            "Epoch 47/1000\n",
            "536/536 [==============================] - 3s 6ms/step - loss: 0.3521 - accuracy: 0.8599 - val_loss: 0.3581 - val_accuracy: 0.8538\n",
            "Epoch 48/1000\n",
            "536/536 [==============================] - 3s 6ms/step - loss: 0.3522 - accuracy: 0.8550 - val_loss: 0.3556 - val_accuracy: 0.8531\n",
            "Epoch 49/1000\n",
            "536/536 [==============================] - 4s 7ms/step - loss: 0.3538 - accuracy: 0.8563 - val_loss: 0.3557 - val_accuracy: 0.8554\n",
            "Epoch 50/1000\n",
            "536/536 [==============================] - 3s 5ms/step - loss: 0.3589 - accuracy: 0.8539 - val_loss: 0.3550 - val_accuracy: 0.8538\n",
            "Epoch 51/1000\n",
            "536/536 [==============================] - 3s 5ms/step - loss: 0.3575 - accuracy: 0.8509 - val_loss: 0.3600 - val_accuracy: 0.8535\n",
            "Epoch 52/1000\n",
            "536/536 [==============================] - 3s 6ms/step - loss: 0.3542 - accuracy: 0.8582 - val_loss: 0.3641 - val_accuracy: 0.8527\n",
            "Epoch 53/1000\n",
            "536/536 [==============================] - 4s 7ms/step - loss: 0.3518 - accuracy: 0.8572 - val_loss: 0.3556 - val_accuracy: 0.8519\n",
            "Epoch 54/1000\n",
            "536/536 [==============================] - 3s 5ms/step - loss: 0.3546 - accuracy: 0.8533 - val_loss: 0.3591 - val_accuracy: 0.8535\n",
            "Epoch 55/1000\n",
            "536/536 [==============================] - 3s 5ms/step - loss: 0.3520 - accuracy: 0.8559 - val_loss: 0.3555 - val_accuracy: 0.8550\n",
            "Epoch 56/1000\n",
            "536/536 [==============================] - 3s 6ms/step - loss: 0.3537 - accuracy: 0.8533 - val_loss: 0.3585 - val_accuracy: 0.8531\n",
            "Epoch 57/1000\n",
            "536/536 [==============================] - 4s 7ms/step - loss: 0.3538 - accuracy: 0.8541 - val_loss: 0.3535 - val_accuracy: 0.8546\n",
            "Epoch 58/1000\n",
            "536/536 [==============================] - 3s 6ms/step - loss: 0.3509 - accuracy: 0.8558 - val_loss: 0.3690 - val_accuracy: 0.8565\n",
            "Epoch 59/1000\n",
            "536/536 [==============================] - 3s 5ms/step - loss: 0.3502 - accuracy: 0.8550 - val_loss: 0.3613 - val_accuracy: 0.8523\n",
            "Epoch 60/1000\n",
            "536/536 [==============================] - 3s 6ms/step - loss: 0.3478 - accuracy: 0.8546 - val_loss: 0.3544 - val_accuracy: 0.8554\n",
            "Epoch 61/1000\n",
            "536/536 [==============================] - 4s 7ms/step - loss: 0.3551 - accuracy: 0.8559 - val_loss: 0.3636 - val_accuracy: 0.8516\n",
            "Epoch 62/1000\n",
            "536/536 [==============================] - 3s 6ms/step - loss: 0.3477 - accuracy: 0.8572 - val_loss: 0.3563 - val_accuracy: 0.8561\n",
            "Epoch 62: early stopping\n"
          ]
        }
      ]
    },
    {
      "cell_type": "code",
      "source": [
        "model_history.history.keys()"
      ],
      "metadata": {
        "colab": {
          "base_uri": "https://localhost:8080/"
        },
        "id": "iPz1esRv5gcB",
        "outputId": "7ca30780-a714-42c7-e1a5-67c011eecb28"
      },
      "execution_count": 81,
      "outputs": [
        {
          "output_type": "execute_result",
          "data": {
            "text/plain": [
              "dict_keys(['loss', 'accuracy', 'val_loss', 'val_accuracy'])"
            ]
          },
          "metadata": {},
          "execution_count": 81
        }
      ]
    },
    {
      "cell_type": "code",
      "source": [
        "plt.plot(model_history.history['accuracy'])\n",
        "plt.plot(model_history.history['val_accuracy'])\n",
        "plt.title('model accuracy')\n",
        "plt.ylabel('accuracy')\n",
        "plt.xlabel('epoch')\n",
        "plt.legend(['train','test'],loc='upper left')\n",
        "plt.show()"
      ],
      "metadata": {
        "colab": {
          "base_uri": "https://localhost:8080/",
          "height": 559
        },
        "id": "drGlaCMF5gd-",
        "outputId": "cd5a77b5-27a1-4768-d012-5a3b06ad847a"
      },
      "execution_count": 82,
      "outputs": [
        {
          "output_type": "stream",
          "name": "stderr",
          "text": [
            "Exception ignored in: <function _xla_gc_callback at 0x7f627aa131c0>\n",
            "Traceback (most recent call last):\n",
            "  File \"/usr/local/lib/python3.10/dist-packages/jax/_src/lib/__init__.py\", line 97, in _xla_gc_callback\n",
            "    def _xla_gc_callback(*args):\n",
            "KeyboardInterrupt: \n"
          ]
        },
        {
          "output_type": "display_data",
          "data": {
            "text/plain": [
              "<Figure size 640x480 with 1 Axes>"
            ],
            "image/png": "[encoded data removed]"
          },
          "metadata": {}
        }
      ]
    },
    {
      "cell_type": "code",
      "source": [
        "plt.plot(model_history.history['loss'])\n",
        "plt.plot(model_history.history['val_accuracy'])\n",
        "plt.title('model accuracy')\n",
        "plt.ylabel('accuracy')\n",
        "plt.xlabel('epoch')\n",
        "plt.legend(['train','test'],loc='upper left')\n",
        "plt.show()"
      ],
      "metadata": {
        "colab": {
          "base_uri": "https://localhost:8080/",
          "height": 472
        },
        "id": "hGALZF2X5gf5",
        "outputId": "11a599c3-3975-4924-ab55-6756e06c45f9"
      },
      "execution_count": 83,
      "outputs": [
        {
          "output_type": "display_data",
          "data": {
            "text/plain": [
              "<Figure size 640x480 with 1 Axes>"
            ],
            "image/png": "[encoded data removed]"
          },
          "metadata": {}
        }
      ]
    },
    {
      "cell_type": "code",
      "source": [
        "#PArt 3-> making Predictions and evaluating the model\n",
        "#predicting thetest set results\n",
        "y_pred=classifier.predict(X_test)\n",
        "y_pred=(y_pred>=0.5)"
      ],
      "metadata": {
        "colab": {
          "base_uri": "https://localhost:8080/"
        },
        "id": "mGNtwvQZ5giX",
        "outputId": "43b994b1-1b22-4084-96b5-985680ce0113"
      },
      "execution_count": 84,
      "outputs": [
        {
          "output_type": "stream",
          "name": "stdout",
          "text": [
            "63/63 [==============================] - 0s 2ms/step\n"
          ]
        }
      ]
    },
    {
      "cell_type": "code",
      "source": [
        "# Confusion Matrix\n",
        "from sklearn.metrics import confusion_matrix\n",
        "cn=confusion_matrix(y_test,y_pred)\n",
        "cn"
      ],
      "metadata": {
        "colab": {
          "base_uri": "https://localhost:8080/"
        },
        "id": "M-u1073s5gkO",
        "outputId": "c70c6aa6-8b5b-4357-d43f-087491825886"
      },
      "execution_count": 85,
      "outputs": [
        {
          "output_type": "execute_result",
          "data": {
            "text/plain": [
              "array([[1544,   41],\n",
              "       [ 255,  160]])"
            ]
          },
          "metadata": {},
          "execution_count": 85
        }
      ]
    },
    {
      "cell_type": "code",
      "source": [
        "#Calculate the accuracy\n",
        "from sklearn.metrics import accuracy_score\n",
        "score=accuracy_score(y_pred,y_test)\n",
        "score"
      ],
      "metadata": {
        "colab": {
          "base_uri": "https://localhost:8080/"
        },
        "id": "aOqtFDDp5gnl",
        "outputId": "c75b008f-088a-471b-ad52-0cb07e0224e4"
      },
      "execution_count": 86,
      "outputs": [
        {
          "output_type": "execute_result",
          "data": {
            "text/plain": [
              "0.852"
            ]
          },
          "metadata": {},
          "execution_count": 86
        }
      ]
    },
    {
      "cell_type": "code",
      "source": [
        "#Get the weights\n",
        "classifier.get_weights()"
      ],
      "metadata": {
        "colab": {
          "base_uri": "https://localhost:8080/"
        },
        "id": "YxFngbaX4T_a",
        "outputId": "509a89f1-8141-450f-da1b-9adb8133f096"
      },
      "execution_count": 87,
      "outputs": [
        {
          "output_type": "execute_result",
          "data": {
            "text/plain": [
              "[array([[ 0.9560098 ,  1.0317646 , -0.42331198, -0.69530654,  0.09786156,\n",
              "          0.6206228 , -0.08604966, -0.826447  ,  0.69086766, -0.9933765 ,\n",
              "         -0.47533724],\n",
              "        [ 0.3007285 ,  0.11277745, -0.04893401, -0.05736993,  0.16971481,\n",
              "          0.02246483,  0.23682463, -0.06500123,  0.26856348, -0.16388851,\n",
              "         -0.02606395],\n",
              "        [-0.19259368, -0.30058149,  0.23689932, -0.28407213,  0.4634318 ,\n",
              "         -0.5396503 , -0.20206483, -0.51797515,  0.2886462 ,  0.18918762,\n",
              "         -0.12126122],\n",
              "        [ 0.22051501,  0.6563652 ,  1.1985198 ,  0.13688381,  0.31384176,\n",
              "         -0.9911052 , -0.24462722,  0.28846458,  0.55815643, -0.1816903 ,\n",
              "          0.9064792 ],\n",
              "        [-0.19185601,  0.3241022 , -0.3109245 , -0.5023897 , -0.79495764,\n",
              "         -0.35124132,  0.5871316 , -0.13131098,  0.06445396,  0.5484371 ,\n",
              "          0.63552976],\n",
              "        [ 1.2649198 , -0.96267366,  0.23305884, -0.0232866 , -0.12064261,\n",
              "          0.0710677 ,  0.269362  ,  0.7377555 ,  0.03216255,  0.878658  ,\n",
              "         -0.43917823],\n",
              "        [-0.05960456, -0.23394348, -0.10672712, -0.18576206, -0.12591138,\n",
              "          0.03757283, -0.5608557 , -0.649745  , -0.49293256,  0.46225628,\n",
              "          0.2566201 ]], dtype=float32),\n",
              " array([-0.42475185, -0.25396192, -1.1276098 ,  0.62793255,  0.21294813,\n",
              "         0.09799269,  0.64333034,  0.17029323,  0.06291796,  0.47295323,\n",
              "         0.20805834], dtype=float32),\n",
              " array([[-0.64717597, -0.15161051,  1.1690149 ,  0.80099905, -0.68061006,\n",
              "          0.30633917, -0.17695904],\n",
              "        [-0.11654963, -2.5899851 ,  0.42239478,  0.8500518 ,  0.43850565,\n",
              "          0.42239863, -0.14271693],\n",
              "        [ 0.5946531 ,  0.56560534, -0.37849137, -1.0228837 ,  0.5761548 ,\n",
              "          1.4791003 , -1.0000613 ],\n",
              "        [ 0.91003776,  0.54484415,  0.05456271,  0.05588404, -0.33387628,\n",
              "          0.01455604,  0.48725474],\n",
              "        [ 0.69387573, -0.42009795,  0.12206946,  0.34789795,  0.28650543,\n",
              "         -0.02226929,  0.60365134],\n",
              "        [-0.1984178 , -0.15205759,  0.16299924, -0.2910796 ,  0.49036786,\n",
              "         -0.7451852 ,  0.5608501 ],\n",
              "        [ 0.564336  ,  0.34159195,  0.0712547 , -0.15868054, -0.39039356,\n",
              "         -0.56385773,  0.57608473],\n",
              "        [ 0.1238538 , -0.29237542,  0.5238912 ,  0.03812109,  1.0007957 ,\n",
              "         -0.20211637,  0.0281356 ],\n",
              "        [-0.4967115 ,  0.30979717, -0.9452172 ,  0.25545904,  0.50640047,\n",
              "          0.13237657, -0.61270595],\n",
              "        [ 0.40774295, -1.4364887 , -0.05347902, -0.11513931,  0.3732739 ,\n",
              "         -0.53702223, -0.6372293 ],\n",
              "        [ 0.6581227 ,  0.16689463, -0.19779897,  0.4180734 ,  0.08794007,\n",
              "          0.2954553 , -0.1662238 ]], dtype=float32),\n",
              " array([ 0.63550323,  0.09554445,  0.14550333,  0.2949909 , -0.22062835,\n",
              "        -0.14893994,  0.27366287], dtype=float32),\n",
              " array([[-1.3053855e-01,  7.4862266e-01, -6.7285621e-01,  6.1349380e-01,\n",
              "         -3.3634216e-01,  7.5663894e-01],\n",
              "        [-1.0532392e+00,  7.6338738e-01, -1.1311678e+00, -1.4701996e+00,\n",
              "         -2.1397088e+00,  2.9474294e-01],\n",
              "        [-2.5873208e-01,  8.1151032e-01,  3.4681687e-01,  1.4059144e-03,\n",
              "          1.2151143e-01,  6.1645460e-01],\n",
              "        [-7.3513216e-01,  3.2161233e-01, -3.0632883e-01, -6.3928044e-01,\n",
              "          5.1972431e-01,  7.1450865e-01],\n",
              "        [-4.0381068e-01,  7.6904953e-02,  1.0178208e+00, -4.6976054e-01,\n",
              "          6.6253394e-01,  1.8730910e-02],\n",
              "        [-7.2191626e-01, -6.5658361e-01,  3.4669068e-01,  9.1177121e-02,\n",
              "          1.0199764e+00, -8.2066506e-01],\n",
              "        [ 4.1239318e-01, -4.3747559e-01,  3.8550794e-01,  7.5613417e-02,\n",
              "          3.3684883e-01, -5.2190006e-01]], dtype=float32),\n",
              " array([ 0.6902002 ,  0.37034526,  0.5444488 , -0.9980527 ,  0.31625623,\n",
              "         0.4284597 ], dtype=float32),\n",
              " array([[-0.7501304 ],\n",
              "        [-0.75628984],\n",
              "        [ 0.9655235 ],\n",
              "        [ 2.275255  ],\n",
              "        [ 0.30000225],\n",
              "        [-0.55474764]], dtype=float32),\n",
              " array([-0.24561447], dtype=float32),\n",
              " array([[ 1.0607252 ,  1.0400577 ,  1.1484276 ,  1.22312   , -0.04776114,\n",
              "         -0.30180532,  1.0624825 ,  0.87212604, -0.5951499 ,  1.1464962 ,\n",
              "         -0.30878687]], dtype=float32),\n",
              " array([-0.00229734, -0.06008786, -0.03671382, -0.00716314,  0.        ,\n",
              "         0.        , -0.0327485 , -0.09895281,  0.        , -0.00918843,\n",
              "         0.        ], dtype=float32),\n",
              " array([[ 0.74745053, -1.0874747 ,  0.6905601 , -1.473882  ,  0.6327909 ,\n",
              "         -0.5417935 ,  0.07708292,  0.549137  ,  0.56792945,  0.28309733,\n",
              "         -0.19926432],\n",
              "        [ 0.4185434 , -0.953621  ,  0.28683078, -1.0968773 ,  0.6542995 ,\n",
              "         -0.65161484,  0.21929112,  0.30843708,  0.2663084 ,  0.7092757 ,\n",
              "          0.3807842 ],\n",
              "        [ 0.09482853, -1.3416642 ,  0.20750792, -1.3976237 ,  0.5710131 ,\n",
              "         -0.9546894 ,  0.33425808,  0.20106153,  0.41557086,  0.3817978 ,\n",
              "          0.6122701 ],\n",
              "        [ 0.6059669 , -0.71416366,  0.11475491, -1.0968324 ,  0.44140753,\n",
              "         -0.35900205,  0.25928086,  0.31316832,  0.77466655,  0.7767859 ,\n",
              "         -0.09474577],\n",
              "        [-0.47012275, -0.26938057,  0.37248647,  0.03527409,  0.34361422,\n",
              "         -0.07099873,  0.4178248 , -0.39303237,  0.13493949,  0.4110253 ,\n",
              "         -0.09990251],\n",
              "        [-0.33866295,  0.28338748, -0.47980106, -0.07702315,  0.25951242,\n",
              "         -0.33826002, -0.03346506, -0.0829004 ,  0.19056374, -0.27273798,\n",
              "         -0.11887297],\n",
              "        [ 0.79940987, -0.8052814 ,  0.6944894 , -0.83620363,  0.6748717 ,\n",
              "         -1.0008588 ,  0.6631558 , -0.26611474,  0.6287458 , -0.09550913,\n",
              "          0.51108956],\n",
              "        [ 1.2429936 , -0.18455938,  0.8027089 , -0.15002346,  0.46563318,\n",
              "         -0.48129767,  1.0105783 ,  0.223404  ,  0.77210504,  0.8092719 ,\n",
              "          0.8441477 ],\n",
              "        [-0.1200074 , -0.4967288 ,  0.1226967 ,  0.40256274,  0.19350392,\n",
              "         -0.16906384, -0.11173618,  0.07490385,  0.2823767 , -0.12322897,\n",
              "          0.4141404 ],\n",
              "        [ 0.38909835, -1.3000504 ,  0.43370634, -1.1716733 ,  0.3460769 ,\n",
              "         -0.8580925 ,  0.23816502,  0.32019433,  0.7240171 ,  0.28086323,\n",
              "          0.27576867],\n",
              "        [ 0.35159844,  0.48116285,  0.45384246, -0.23654506,  0.46133757,\n",
              "         -0.01464462,  0.0581829 ,  0.20653939,  0.35382915,  0.36417294,\n",
              "          0.267936  ]], dtype=float32),\n",
              " array([-0.01135973,  0.05021519, -0.10970584,  0.05244172, -0.00980977,\n",
              "         0.05251585, -0.01316328, -0.10318561, -0.05628347, -0.01727519,\n",
              "        -0.09972282], dtype=float32),\n",
              " array([[ 0.30803624,  0.19766943, -0.7215686 , -1.1242181 ,  0.19517449,\n",
              "         -0.46400046, -1.0076598 ],\n",
              "        [-0.24087971, -0.2780074 ,  1.1959703 ,  0.8521356 , -0.48385975,\n",
              "          0.7418355 ,  0.9095836 ],\n",
              "        [ 0.2882215 ,  0.47138444, -0.6145834 , -0.8191348 ,  0.26340914,\n",
              "         -0.3790789 , -0.93566316],\n",
              "        [-0.27554205,  0.16612193,  1.1092814 ,  0.7045787 , -0.19889928,\n",
              "          1.4251577 ,  0.6795552 ],\n",
              "        [ 0.47907102,  0.01130908, -0.5591852 , -0.97614837,  0.11725236,\n",
              "         -0.2217773 , -0.7041048 ],\n",
              "        [-0.1937655 , -0.5689012 ,  0.2759155 ,  0.15483582,  0.06656881,\n",
              "          1.0529028 ,  0.40560046],\n",
              "        [ 0.7361619 ,  0.05861272, -0.54033744, -0.7005396 ,  0.24154033,\n",
              "         -0.88904154, -1.0882897 ],\n",
              "        [ 0.6039148 ,  0.3113701 , -0.9302539 , -0.4500686 ,  0.6531011 ,\n",
              "         -0.53210384,  0.11497851],\n",
              "        [ 0.22941162,  0.15250936, -0.6007426 , -0.93459135, -0.03621762,\n",
              "         -0.18440992, -0.6539719 ],\n",
              "        [ 0.20673323,  0.4131074 , -0.8281607 , -0.8504493 ,  0.3489148 ,\n",
              "         -0.5153253 , -0.61045253],\n",
              "        [ 0.27466005,  0.44175687, -0.5528122 , -0.9894541 ,  0.525073  ,\n",
              "         -0.5362039 , -0.6802278 ]], dtype=float32),\n",
              " array([-0.05965966, -0.11594674,  0.17502123,  0.07335228, -0.03780936,\n",
              "         0.11840294,  0.07857212], dtype=float32),\n",
              " array([[ 0.3472415 ,  0.68627435, -0.281125  , -1.1032541 , -0.3488293 ,\n",
              "         -0.7097942 ],\n",
              "        [ 0.27115765,  0.13139874, -0.4162267 , -1.3285953 , -0.2750883 ,\n",
              "          0.5705097 ],\n",
              "        [ 0.27883273, -0.02928548,  0.7160333 ,  0.30522248,  0.63657814,\n",
              "         -0.35902405],\n",
              "        [ 0.4335752 , -0.40707916,  1.33633   ,  0.2903302 ,  0.8294848 ,\n",
              "         -0.6546762 ],\n",
              "        [-0.05449256, -0.10274915, -0.4067764 , -1.2642522 , -0.27134743,\n",
              "          0.36019823],\n",
              "        [ 0.51282126,  0.33659807,  0.5947258 ,  0.38744992,  0.6380005 ,\n",
              "         -0.375796  ],\n",
              "        [ 0.56622994, -0.3793202 ,  0.52919424,  1.076711  ,  0.89118   ,\n",
              "         -0.7088202 ]], dtype=float32),\n",
              " array([ 0.45240563, -0.20901954,  0.44521308,  0.36491454,  0.49299023,\n",
              "         0.09670362], dtype=float32),\n",
              " array([[-0.4925456 ],\n",
              "        [ 0.8500012 ],\n",
              "        [-1.3482244 ],\n",
              "        [-0.9566301 ],\n",
              "        [-0.6473522 ],\n",
              "        [ 0.75732285]], dtype=float32),\n",
              " array([-0.36129388], dtype=float32)]"
            ]
          },
          "metadata": {},
          "execution_count": 87
        }
      ]
    }
  ]
}